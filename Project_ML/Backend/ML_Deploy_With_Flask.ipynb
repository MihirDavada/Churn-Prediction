{
 "cells": [
  {
   "cell_type": "code",
   "execution_count": 1,
   "metadata": {
    "colab": {
     "base_uri": "https://localhost:8080/"
    },
    "id": "zXkWxA2sIXnn",
    "outputId": "47d40fba-7df2-4dc1-b545-403c47e0593c"
   },
   "outputs": [],
   "source": []
  },
  {
   "cell_type": "code",
   "execution_count": 2,
   "metadata": {
    "colab": {
     "base_uri": "https://localhost:8080/"
    },
    "id": "gjpcQ2dXM7u0",
    "outputId": "a636dcc1-9c44-41d4-8deb-bfb006b8e640"
   },
   "outputs": [
    {
     "name": "stdout",
     "output_type": "stream",
     "text": [
      "Defaulting to user installation because normal site-packages is not writeable\n",
      "Requirement already satisfied: Flask in c:\\programdata\\anaconda3\\lib\\site-packages (1.1.2)\n",
      "Requirement already satisfied: Werkzeug>=0.15 in c:\\programdata\\anaconda3\\lib\\site-packages (from Flask) (2.0.3)\n",
      "Requirement already satisfied: Jinja2>=2.10.1 in c:\\programdata\\anaconda3\\lib\\site-packages (from Flask) (2.11.3)\n",
      "Requirement already satisfied: click>=5.1 in c:\\programdata\\anaconda3\\lib\\site-packages (from Flask) (8.0.4)\n",
      "Requirement already satisfied: itsdangerous>=0.24 in c:\\programdata\\anaconda3\\lib\\site-packages (from Flask) (2.0.1)\n",
      "Requirement already satisfied: colorama in c:\\programdata\\anaconda3\\lib\\site-packages (from click>=5.1->Flask) (0.4.5)\n",
      "Requirement already satisfied: MarkupSafe>=0.23 in c:\\programdata\\anaconda3\\lib\\site-packages (from Jinja2>=2.10.1->Flask) (2.0.1)\n"
     ]
    }
   ],
   "source": [
    "!pip install Flask\n",
    "# -ngrok"
   ]
  },
  {
   "cell_type": "code",
   "execution_count": 3,
   "metadata": {
    "id": "6zzpgr1kJBl4"
   },
   "outputs": [],
   "source": [
    "from flask import Flask, render_template,request,redirect,url_for\n",
    "# from flask_ngrok import run_with_ngrok\n",
    "from joblib import load\n",
    "import pandas as pd"
   ]
  },
  {
   "cell_type": "code",
   "execution_count": 4,
   "metadata": {
    "colab": {
     "base_uri": "https://localhost:8080/"
    },
    "id": "JLJPFi5tJCtw",
    "outputId": "6068752f-a547-49a8-b1b0-a06e85a992c8"
   },
   "outputs": [],
   "source": [
    "# ! wget https://bin.equinox.io/c/4VmDzA7iaHb/ngrok-stable-linux-amd64.zip\n",
    "# ! unzip ngrok-stable-linux-amd64.zip\n",
    "# ! ./ngrok authtoken 2OEHAZMdNQowVLnrdRaMQmsS5TM_4PiMND2wprYZ4nzb2Ks54 "
   ]
  },
  {
   "cell_type": "code",
   "execution_count": 6,
   "metadata": {
    "id": "RjQrQvTuJHGH"
   },
   "outputs": [],
   "source": [
    "# /content/drive/MyDrive/\n",
    "app = Flask(__name__,template_folder=\"Project_ML\")"
   ]
  },
  {
   "cell_type": "code",
   "execution_count": 7,
   "metadata": {
    "id": "Hvedqi9hNSpZ"
   },
   "outputs": [],
   "source": [
    "# run_with_ngrok(app)"
   ]
  },
  {
   "cell_type": "code",
   "execution_count": 8,
   "metadata": {
    "id": "z8OLNEOlJzMq"
   },
   "outputs": [],
   "source": [
    "@app.route(\"/\")\n",
    "def index():\n",
    "    return render_template(\"model.html\") \n",
    "\n",
    "@app.route(\"/model\",methods=['GET', 'POST'])\n",
    "def model_page():\n",
    "\n",
    "\n",
    "  output_text = 'Initial'\n",
    "\n",
    "  if request.method == 'POST':\n",
    "      gender = request.form.get('gender')\n",
    "      SeniorCitizen = request.form.get('SeniorCitizen')\n",
    "      Partner = request.form.get('Partner')\n",
    "      Dependents  = request.form.get('Dependents')\n",
    "      PhoneService = request.form.get('PhoneService')\n",
    "      MultipleLines = request.form.get('MultipleLines')\n",
    "      InternetService = request.form.get('InternetService')\n",
    "      OnlineSecurity = request.form.get('OnlineSecurity')\n",
    "      OnlineBackup = request.form.get('OnlineBackup')\n",
    "      DeviceProtection = request.form.get('DeviceProtection')\n",
    "      TechSupport = request.form.get('TechSupport')\n",
    "      StreamingTV = request.form.get('StreamingTV')\n",
    "      StreamingMovies = request.form.get('StreamingMovies')\n",
    "      Contract = request.form.get('Contract')\n",
    "      PaperlessBilling = request.form.get('PaperlessBilling')\n",
    "      PaymentMethod = request.form.get('PaymentMethod')\n",
    "      MonthlyCharges = request.form.get('MonthlyCharges')\n",
    "      TotalCharges = request.form.get('TotalCharges')\n",
    "      tenure_group = request.form.get('tenure_group')\n",
    "\n",
    "      df = pd.DataFrame({\n",
    "          'gender':[gender],\n",
    "          'SeniorCitizen':[SeniorCitizen],\n",
    "          'Partner':[Partner],\n",
    "          'Dependents':[Dependents],\n",
    "          'PhoneService':[PhoneService],\n",
    "          'MultipleLines':[MultipleLines],\n",
    "          'InternetService':[InternetService],\n",
    "          'OnlineSecurity':[OnlineSecurity],\n",
    "          'OnlineBackup':[OnlineBackup],\n",
    "          'DeviceProtection':[DeviceProtection],\n",
    "          'TechSupport':[TechSupport],\n",
    "          'StreamingTV':[StreamingTV],\n",
    "          'StreamingMovies':[StreamingMovies],\n",
    "          'Contract':[Contract],\n",
    "          'PaperlessBilling':[PaperlessBilling],\n",
    "          'PaymentMethod':[PaymentMethod],\n",
    "          'MonthlyCharges':[MonthlyCharges],\n",
    "          'TotalCharges':[TotalCharges],\n",
    "          'tenure_group':[tenure_group]\n",
    "      })\n",
    "\n",
    "\n",
    "      randomForestClassifier = load('Project_ML/random_forest.joblib')\n",
    "      y_pred = randomForestClassifier.predict(df)\n",
    "\n",
    "      if y_pred == 0.0:\n",
    "          pred = \" User Will Not Churn \"\n",
    "      else:\n",
    "          pred = \" User Will Churn \"\n",
    "\n",
    "      return render_template('output.html', output_text = pred)\n",
    "\n"
   ]
  },
  {
   "cell_type": "code",
   "execution_count": null,
   "metadata": {
    "colab": {
     "background_save": true,
     "base_uri": "https://localhost:8080/"
    },
    "id": "AZEpKnN5KMRz",
    "outputId": "581d7833-5293-4134-8144-2870ada90476"
   },
   "outputs": [
    {
     "name": "stdout",
     "output_type": "stream",
     "text": [
      " * Serving Flask app \"__main__\" (lazy loading)\n",
      " * Environment: production\n",
      "\u001b[31m   WARNING: This is a development server. Do not use it in a production deployment.\u001b[0m\n",
      "\u001b[2m   Use a production WSGI server instead.\u001b[0m\n",
      " * Debug mode: off\n"
     ]
    },
    {
     "name": "stderr",
     "output_type": "stream",
     "text": [
      " * Running on http://127.0.0.1:5000/ (Press CTRL+C to quit)\n",
      "127.0.0.1 - - [13/Apr/2023 10:36:15] \"GET / HTTP/1.1\" 200 -\n",
      "127.0.0.1 - - [13/Apr/2023 10:36:15] \"GET /favicon.ico HTTP/1.1\" 404 -\n",
      "C:\\ProgramData\\Anaconda3\\lib\\site-packages\\sklearn\\base.py:329: UserWarning: Trying to unpickle estimator DecisionTreeClassifier from version 1.2.2 when using version 1.0.2. This might lead to breaking code or invalid results. Use at your own risk. For more info please refer to:\n",
      "https://scikit-learn.org/stable/modules/model_persistence.html#security-maintainability-limitations\n",
      "  warnings.warn(\n",
      "C:\\ProgramData\\Anaconda3\\lib\\site-packages\\sklearn\\base.py:329: UserWarning: Trying to unpickle estimator RandomForestClassifier from version 1.2.2 when using version 1.0.2. This might lead to breaking code or invalid results. Use at your own risk. For more info please refer to:\n",
      "https://scikit-learn.org/stable/modules/model_persistence.html#security-maintainability-limitations\n",
      "  warnings.warn(\n",
      "127.0.0.1 - - [13/Apr/2023 10:36:24] \"POST /model HTTP/1.1\" 200 -\n",
      "127.0.0.1 - - [13/Apr/2023 11:27:54] \"GET / HTTP/1.1\" 200 -\n",
      "C:\\ProgramData\\Anaconda3\\lib\\site-packages\\sklearn\\base.py:329: UserWarning: Trying to unpickle estimator DecisionTreeClassifier from version 1.2.2 when using version 1.0.2. This might lead to breaking code or invalid results. Use at your own risk. For more info please refer to:\n",
      "https://scikit-learn.org/stable/modules/model_persistence.html#security-maintainability-limitations\n",
      "  warnings.warn(\n",
      "C:\\ProgramData\\Anaconda3\\lib\\site-packages\\sklearn\\base.py:329: UserWarning: Trying to unpickle estimator RandomForestClassifier from version 1.2.2 when using version 1.0.2. This might lead to breaking code or invalid results. Use at your own risk. For more info please refer to:\n",
      "https://scikit-learn.org/stable/modules/model_persistence.html#security-maintainability-limitations\n",
      "  warnings.warn(\n",
      "127.0.0.1 - - [13/Apr/2023 11:28:01] \"POST /model HTTP/1.1\" 200 -\n",
      "127.0.0.1 - - [13/Apr/2023 11:30:44] \"GET / HTTP/1.1\" 200 -\n",
      "127.0.0.1 - - [13/Apr/2023 11:30:44] \"GET /favicon.ico HTTP/1.1\" 404 -\n",
      "C:\\ProgramData\\Anaconda3\\lib\\site-packages\\sklearn\\base.py:329: UserWarning: Trying to unpickle estimator DecisionTreeClassifier from version 1.2.2 when using version 1.0.2. This might lead to breaking code or invalid results. Use at your own risk. For more info please refer to:\n",
      "https://scikit-learn.org/stable/modules/model_persistence.html#security-maintainability-limitations\n",
      "  warnings.warn(\n",
      "C:\\ProgramData\\Anaconda3\\lib\\site-packages\\sklearn\\base.py:329: UserWarning: Trying to unpickle estimator RandomForestClassifier from version 1.2.2 when using version 1.0.2. This might lead to breaking code or invalid results. Use at your own risk. For more info please refer to:\n",
      "https://scikit-learn.org/stable/modules/model_persistence.html#security-maintainability-limitations\n",
      "  warnings.warn(\n",
      "127.0.0.1 - - [13/Apr/2023 11:30:52] \"POST /model HTTP/1.1\" 200 -\n"
     ]
    }
   ],
   "source": [
    "app.run()"
   ]
  },
  {
   "cell_type": "code",
   "execution_count": null,
   "metadata": {},
   "outputs": [],
   "source": []
  }
 ],
 "metadata": {
  "colab": {
   "provenance": []
  },
  "kernelspec": {
   "display_name": "Python 3 (ipykernel)",
   "language": "python",
   "name": "python3"
  },
  "language_info": {
   "codemirror_mode": {
    "name": "ipython",
    "version": 3
   },
   "file_extension": ".py",
   "mimetype": "text/x-python",
   "name": "python",
   "nbconvert_exporter": "python",
   "pygments_lexer": "ipython3",
   "version": "3.9.13"
  }
 },
 "nbformat": 4,
 "nbformat_minor": 1
}
